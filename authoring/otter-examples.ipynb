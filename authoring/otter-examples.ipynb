{
 "cells": [
  {
   "cell_type": "markdown",
   "id": "6e1c283a-835b-4340-ba7a-c0d22b465948",
   "metadata": {},
   "source": [
    "# Authoring Otter Grader-Based Notebook"
   ]
  },
  {
   "cell_type": "markdown",
   "id": "dcb04fbd-b853-4108-b649-4bef28abef59",
   "metadata": {},
   "source": [
    "This notebook contains a series of examples for different types of questions that are available in otter-grader. Please note that this is\n",
    "examples using Otter Grader 4.4.1. When we move to Otter Grader 5, we will make a new set of examples."
   ]
  },
  {
   "cell_type": "markdown",
   "id": "cb2432e5-c2ff-4e6e-97ef-673e40c70556",
   "metadata": {},
   "source": [
    "## Otter Notebook Authoring\n",
    "\n",
    "**Key Moments:**\n",
    "- ASSIGNMENT CONFIG at the top of the notebook file\n",
    "- Cell Types:</br>\n",
    "    ![Cell Types](cell-types.png)\n",
    "  \n",
    "    - \"Raw\": # BEGIN QUESTION, # END QUESION, # BEGIN SOLUTION, # END SOLUTION, # BEGIN TESTS, # END TESTS\n",
    "    - \"Code\": Anything code that needs to be executed\n",
    "    - \"Markdown\": Cells will be rendered by applying styles to markdown syntax(like this one!)"
   ]
  },
  {
   "cell_type": "markdown",
   "id": "704f2bbb-63b4-4e93-ad10-4c4f5b06598b",
   "metadata": {},
   "source": [
    "## Assignment Config"
   ]
  },
  {
   "cell_type": "markdown",
   "id": "b944e5e2-3e5e-4a7c-becd-f2bf65af8ce3",
   "metadata": {},
   "source": [
    "The parent(or raw) notebook -- we have never come up with a good name must must contain # ASSIGNMENT CONFIG  at the top. A full description of what might be included in the assignment config can be found [here](https://otter-grader.readthedocs.io/en/v4.4.1/otter_assign/v1/notebook_format.html#assignment-config) It might look like this"
   ]
  },
  {
   "cell_type": "raw",
   "id": "bafea102-ed3d-4178-a52d-4ff6995b9413",
   "metadata": {},
   "source": [
    "# ASSIGNMENT CONFIG\n",
    "init_cell: true \n",
    "export_cell: true \n",
    "files:\n",
    "    - world_population.csv\n",
    "    - files you would like to include with notebook that must be in same folder as notebook(or provide a path to the file)\n",
    "export_cell:\n",
    "    pdf: false\n",
    "    force_save: false\n",
    "solutions_pdf: true\n",
    "template_pdf: false\n",
    "generate:\n",
    "    points_possible: 100.0\n",
    "    show_stdout: true\n",
    "    filtering: true\n",
    "    pagebreaks: true\n",
    "    zips: false"
   ]
  },
  {
   "cell_type": "markdown",
   "id": "0894f003-17ce-4e23-aa03-9461c53e7b86",
   "metadata": {},
   "source": [
    "## Standard Programming Questions Formats Prompting a Student to write code"
   ]
  },
  {
   "cell_type": "markdown",
   "id": "a45cc3d3-229c-4d93-9796-4928cb2ae207",
   "metadata": {},
   "source": [
    "There are a few pieces that are critical to understanding the structure of a question.\n",
    "- Notice the **\"points\"** section below. Each dashed line corresponds to the test cases below the solution. Three dashes would mean you need to have three\n",
    "  and in this case the first two tests are not worth any points and the final test is worth four. You will also notice that the final test is marked \"# HIDDEN\" This means that the student notebook will not contain this test as self-check in the notebook but instead it will be used when we grade the notebook ourselves using `otter grade` or `otter run`\n",
    "- The **solution** section has many customizations, here is a [reference](https://otter-grader.readthedocs.io/en/v4.4.1/otter_assign/v1/notebook_format.html#solution-removal). The one below will render this in the student notebook:\n",
    "  ```python\n",
    "  import math\n",
    "  weird_numbers = ...\n",
    "  weird_numbers\n",
    "  ```\n",
    "  </br>\n",
    "  The \"...\" is prompting the student to complete this line."
   ]
  },
  {
   "cell_type": "raw",
   "id": "936a2acf-1349-4874-b005-ec0b1ae14e46",
   "metadata": {
    "jp-MarkdownHeadingCollapsed": true
   },
   "source": [
    "# BEGIN QUESTION\n",
    "name: q1_1\n",
    "points:\n",
    " - 0\n",
    " - 0\n",
    " - 4"
   ]
  },
  {
   "cell_type": "raw",
   "id": "8c1a9642-24eb-4e74-9ba3-5f46a404569f",
   "metadata": {},
   "source": []
  },
  {
   "cell_type": "markdown",
   "id": "2a5f89bf-0bf1-4fad-9097-b9a2397d2163",
   "metadata": {},
   "source": [
    "**Question 1.** Make an array called `weird_numbers` containing the following numbers (in the given order) **(4 Points)**:\n",
    "\n",
    "1. -2\n",
    "2. the floor of 12.6\n",
    "3. 3\n",
    "4. 5 to the power of the ceil of 5.3\n",
    "\n",
    "*Hint:* `floor` and `ceil` are functions in the `math` module. Importing modules is covered in Lab 2!\n",
    "\n",
    "*Note:* Python lists are different/behave differently than NumPy arrays. In Data 8, we use NumPy arrays, so please make an **array**, not a Python list."
   ]
  },
  {
   "cell_type": "raw",
   "id": "dddae124-fab3-4d48-a406-4316a3feacd9",
   "metadata": {},
   "source": [
    "# BEGIN SOLUTION"
   ]
  },
  {
   "cell_type": "code",
   "execution_count": null,
   "id": "0ebfae55-145d-4eba-82f8-56451471f897",
   "metadata": {},
   "outputs": [],
   "source": [
    "import math\n",
    "weird_numbers = make_array(-2, math.floor(12.6), 3, 5**math.ceil(5.3)) # SOLUTION\n",
    "weird_numbers"
   ]
  },
  {
   "cell_type": "raw",
   "id": "bdc75e02-f648-45e9-b31c-6c2b97bb3b2e",
   "metadata": {},
   "source": [
    "# END SOLUTION"
   ]
  },
  {
   "cell_type": "raw",
   "id": "27da53e8-a794-4603-85e1-9329bc29be82",
   "metadata": {},
   "source": [
    "# BEGIN TESTS"
   ]
  },
  {
   "cell_type": "code",
   "execution_count": null,
   "id": "34cf2782-9b4b-4fa2-b641-6fa406764b9c",
   "metadata": {},
   "outputs": [],
   "source": [
    "import numpy as np # you can include the imports at the top of the notebook\n",
    "# It looks like you didn't make an array.\n",
    "type(weird_numbers) == np.ndarray"
   ]
  },
  {
   "cell_type": "code",
   "execution_count": null,
   "id": "282c02ff-efb6-4e00-b388-9e6fa53863c7",
   "metadata": {},
   "outputs": [],
   "source": [
    "len(weird_numbers) == 4"
   ]
  },
  {
   "cell_type": "code",
   "execution_count": null,
   "id": "cc4c3b4c-5af6-49cf-8e08-2967fd71af67",
   "metadata": {},
   "outputs": [],
   "source": [
    "# HIDDEN\n",
    "np.allclose(weird_numbers, np.array([   -2,    12,     3, 15625]), rtol=1e-03, atol=1e-03)"
   ]
  },
  {
   "cell_type": "raw",
   "id": "70eb799c-330f-406e-b587-19581cf0f281",
   "metadata": {},
   "source": [
    "# END TESTS"
   ]
  },
  {
   "cell_type": "raw",
   "id": "2058000c-725e-463e-acc3-5322ae045ce9",
   "metadata": {},
   "source": [
    "# END QUESTION"
   ]
  },
  {
   "cell_type": "markdown",
   "id": "3852267f-6f08-49a1-8be8-cb1d17d02c47",
   "metadata": {},
   "source": [
    "## Manual-Graded Questions"
   ]
  },
  {
   "cell_type": "markdown",
   "id": "6e510011-a20a-4e05-afaf-62f8c4534f43",
   "metadata": {},
   "source": [
    "Otter can render questions prompting the user for an open-neded response or to generate a series of visualizations -- otter can't analyze a plot easily. These, of course, are not automatically graded.\n",
    "\n",
    "**Key Moments:**\n",
    "- No **points** section in the question configuration\n",
    "- **manual: true** is set in the question configuration"
   ]
  },
  {
   "cell_type": "markdown",
   "id": "f4ddb5ca-f39e-459c-a7b2-694a267601ed",
   "metadata": {},
   "source": [
    "### Asking for a visualization"
   ]
  },
  {
   "cell_type": "raw",
   "id": "cfe28100-2be4-4ce0-a189-7d50efe60f07",
   "metadata": {},
   "source": [
    "# BEGIN QUESTION\n",
    "name: q2_5\n",
    "manual: true"
   ]
  },
  {
   "cell_type": "markdown",
   "id": "c197ec6a-12b8-478f-8d57-9d3c55bef9c3",
   "metadata": {},
   "source": [
    "**Question 5.** In the code cell below, create a visualization that will help us determine if there is an association between birth rate and death rate during this time interval. It may be helpful to create an intermediate table here. **(4 Points)**\n",
    "\n",
    "Things to consider:\n",
    "\n",
    "- What type of chart will help us illustrate an association between 2 variables?\n",
    "- How can you manipulate a certain table to help generate your chart?\n",
    "- Check out the Recommended Reading for this homework!"
   ]
  },
  {
   "cell_type": "raw",
   "id": "096db2bf-cd05-4baa-a053-b0bb4bbd9d16",
   "metadata": {},
   "source": [
    "# BEGIN SOLUTION"
   ]
  },
  {
   "cell_type": "code",
   "execution_count": null,
   "id": "40ba26b4-a43f-43a4-bb50-e9d01ab3dd39",
   "metadata": {},
   "outputs": [],
   "source": [
    "# In this cell, use birth_rates and death_rates to generate your visualization\n",
    "birth_rates = pop.column('BIRTHS') / pop.column('2015')\n",
    "death_rates = pop.column('DEATHS') / pop.column('2015')\n",
    "pop.with_columns(\"Birth Rate\", birth_rates, \"Death Rate\", death_rates).scatter(8, 9) # SOLUTION"
   ]
  },
  {
   "cell_type": "raw",
   "id": "0e6bdf6a-6626-4daf-a282-6b3aa971ef90",
   "metadata": {},
   "source": [
    "# END SOLUTION"
   ]
  },
  {
   "cell_type": "raw",
   "id": "5b026f86-7664-4911-9da2-e75dfecd0db4",
   "metadata": {},
   "source": [
    "# END QUESTION"
   ]
  },
  {
   "cell_type": "markdown",
   "id": "c25fb578-fb92-47e2-b404-eafc4feff91b",
   "metadata": {},
   "source": [
    "### Asking for Written Response"
   ]
  },
  {
   "cell_type": "raw",
   "id": "8a9a2409-ca8f-4861-9176-d26be15e1046",
   "metadata": {},
   "source": [
    "# BEGIN QUESTION\n",
    "name: q3_7\n",
    "manual: true"
   ]
  },
  {
   "cell_type": "markdown",
   "id": "b8dcd396-b94e-43aa-b3a0-48a37ba8c7c3",
   "metadata": {},
   "source": [
    "**Question 7.** Why is your solution in Question 6 the case? Based on one of the following two readings, why are the distributions for Boston and Manila different? **(4 Points)**\n",
    "\n",
    "- [Boston reading](https://www.climatestotravel.com/climate/united-states/boston)\n",
    "- [Manila reading](https://manilafyi.com/why-is-manila-traffic-so-bad/)\n",
    "\n",
    "*Hint:* Try thinking about external factors of the two cities that may be causing the difference! There may be multiple different factors that come into play."
   ]
  },
  {
   "cell_type": "raw",
   "id": "109c3a9a-e198-4e3c-959e-5f176c49c141",
   "metadata": {},
   "source": [
    "# BEGIN SOLUTION"
   ]
  },
  {
   "cell_type": "markdown",
   "id": "3f82af2d-c106-482e-8976-2c363ab71f7b",
   "metadata": {},
   "source": [
    "**SOLUTION:** This could be because there's more traffic in Manila, or because the weather is not pleasant in Boston in the winter, so people may choose to take a car for short trips rather than walk."
   ]
  },
  {
   "cell_type": "raw",
   "id": "74581d40-f694-41ff-bc8d-1085876dc9ce",
   "metadata": {},
   "source": [
    "# END SOLUTION"
   ]
  },
  {
   "cell_type": "raw",
   "id": "bc459acd-eaca-44a9-afc4-f73aedf8d13f",
   "metadata": {},
   "source": [
    "# END QUESTION"
   ]
  },
  {
   "cell_type": "markdown",
   "id": "962e979d-6516-4669-bcd1-64ab113a2738",
   "metadata": {},
   "source": [
    "## Multiple Choice"
   ]
  },
  {
   "cell_type": "markdown",
   "id": "4b62ab6c-2ea8-4068-90e3-fc45668b92f1",
   "metadata": {},
   "source": [
    "**Key Moments:**\n",
    "- Notice the **points** section. Three tests with the second test worth a point -- yes, they get a point for giving one of the possible answers!\n",
    "  The third test is \"# HIDDEN\" and contains the correct answer. The implication here is that the student notebook checks to see if the answer is valid but\n",
    "  the instructor uses the third test, the \"# HIDDEN\" test, to assign points when the notebook is graded by otter."
   ]
  },
  {
   "cell_type": "raw",
   "id": "3f3d29c8-6c79-41cc-8496-7f17729db22d",
   "metadata": {},
   "source": [
    "# BEGIN QUESTION\n",
    "name: q4_3\n",
    "points:\n",
    " - 0\n",
    " - 1\n",
    " - 4"
   ]
  },
  {
   "cell_type": "markdown",
   "id": "3ff146a1-556a-4391-861a-c1920de08816",
   "metadata": {},
   "source": [
    "**Question 3.** Suppose we run `t.hist('y')`. Which histogram does this code produce? Assign `histogram_column_y` to either 1, 2, or 3. **(5 Points)**\n",
    "\n",
    "1. Histogram A\n",
    "2. Histogram B\n",
    "3. Histogram C"
   ]
  },
  {
   "cell_type": "raw",
   "id": "67d68887-748a-431b-8fdd-117bb86908a3",
   "metadata": {},
   "source": [
    "# BEGIN SOLUTION"
   ]
  },
  {
   "cell_type": "code",
   "execution_count": null,
   "id": "406b7a7a-984a-4aef-ab7c-5c04ab490f09",
   "metadata": {},
   "outputs": [],
   "source": [
    "histogram_column_y = 2 # SOLUTION"
   ]
  },
  {
   "cell_type": "raw",
   "id": "3461db61-8c8b-4394-b7ea-e900432647e4",
   "metadata": {},
   "source": [
    "# END SOLUTION"
   ]
  },
  {
   "cell_type": "raw",
   "id": "3c0f2276-ef85-4e9f-a1fb-7afdd7546b51",
   "metadata": {},
   "source": [
    "# BEGIN TESTS"
   ]
  },
  {
   "cell_type": "code",
   "execution_count": null,
   "id": "43c7263c-a968-40fe-ae6e-b2e068dc2ae5",
   "metadata": {},
   "outputs": [],
   "source": [
    "# Make sure you assign histogram_column_y to either 1 or 2!\n",
    "type(histogram_column_y) == int"
   ]
  },
  {
   "cell_type": "code",
   "execution_count": null,
   "id": "6514541e-d2d2-42ef-98ca-d71190c6890b",
   "metadata": {},
   "outputs": [],
   "source": [
    "# Make sure histogram_column_y is assigned to 1, 2 or 3.\n",
    "histogram_column_y == 1 or histogram_column_y == 2 or histogram_column_y == 3"
   ]
  },
  {
   "cell_type": "code",
   "execution_count": null,
   "id": "ec368d1a-99ee-4acb-9466-6577a3379897",
   "metadata": {},
   "outputs": [],
   "source": [
    "# HIDDEN\n",
    "histogram_column_y == 2"
   ]
  },
  {
   "cell_type": "raw",
   "id": "b12ca4d7-cf70-4b53-9eff-602ecfbb8ba5",
   "metadata": {},
   "source": [
    "# END TESTS"
   ]
  },
  {
   "cell_type": "raw",
   "id": "2eec70c0-f7f3-4f0f-a419-d59ee3e8397a",
   "metadata": {},
   "source": [
    "# END QUESTION"
   ]
  }
 ],
 "metadata": {
  "kernelspec": {
   "display_name": "Python 3 (ipykernel)",
   "language": "python",
   "name": "python3"
  },
  "language_info": {
   "codemirror_mode": {
    "name": "ipython",
    "version": 3
   },
   "file_extension": ".py",
   "mimetype": "text/x-python",
   "name": "python",
   "nbconvert_exporter": "python",
   "pygments_lexer": "ipython3",
   "version": "3.10.11"
  }
 },
 "nbformat": 4,
 "nbformat_minor": 5
}
